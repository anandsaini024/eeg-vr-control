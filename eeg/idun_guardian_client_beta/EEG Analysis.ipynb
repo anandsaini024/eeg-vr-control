{
 "cells": [
  {
   "cell_type": "code",
   "execution_count": null,
   "id": "c9b72f42",
   "metadata": {},
   "outputs": [],
   "source": [
    "#!pip install mne_qt_browser pyqt5 bsl pylsl liesl"
   ]
  },
  {
   "cell_type": "code",
   "execution_count": null,
   "id": "b27554cf",
   "metadata": {},
   "outputs": [],
   "source": [
    "import time\n",
    "\n",
    "import bsl\n",
    "from bsl import StreamPlayer, datasets\n",
    "from bsl.externals import pylsl  # distributed version of pylsl\n",
    "from bsl.triggers import TriggerDef\n",
    "\n",
    "import liesl\n",
    "\n",
    "import pylsl\n",
    "import math\n",
    "import matplotlib\n",
    "import matplotlib.pyplot as plt\n",
    "\n",
    "import mne\n",
    "import numpy as np\n",
    "import os\n",
    "# %matplotlib qt\n",
    "# mne.set_config('MNE_BROWSER_BACKEND', 'qt')"
   ]
  },
  {
   "cell_type": "code",
   "execution_count": null,
   "id": "0801f82d",
   "metadata": {},
   "outputs": [],
   "source": [
    "idun_guardian_client_beta_folder = os.getcwd()"
   ]
  },
  {
   "cell_type": "code",
   "execution_count": null,
   "id": "65bd32fd",
   "metadata": {},
   "outputs": [],
   "source": [
    "import pandas as pd\n",
    "\n",
    "df = pd.read_csv(f'{idun_guardian_client_beta_folder}/eeg.csv')"
   ]
  },
  {
   "cell_type": "code",
   "execution_count": null,
   "id": "b5692aa0",
   "metadata": {},
   "outputs": [],
   "source": [
    "info = mne.create_info(sfreq=250, ch_names=['E1'], ch_types=['eeg'])\n",
    "data = np.array([df['ch1'].values])\n",
    "raw = mne.io.RawArray(data=data, info=info)"
   ]
  },
  {
   "cell_type": "code",
   "execution_count": null,
   "id": "b1f4fa36",
   "metadata": {},
   "outputs": [],
   "source": [
    "raw.save(f'{idun_guardian_client_beta_folder}/eeg.fif', overwrite=True)"
   ]
  },
  {
   "cell_type": "code",
   "execution_count": null,
   "id": "9ca23767",
   "metadata": {},
   "outputs": [],
   "source": [
    "raw.plot()"
   ]
  },
  {
   "cell_type": "code",
   "execution_count": null,
   "id": "01810b2e",
   "metadata": {},
   "outputs": [],
   "source": [
    "raw.plot_psd(picks='E1')"
   ]
  },
  {
   "cell_type": "code",
   "execution_count": null,
   "id": "b71bb425",
   "metadata": {},
   "outputs": [],
   "source": [
    "# à augmenter : Alpha, theta\n",
    "# à diminuer : gamma, beta (, delta)"
   ]
  },
  {
   "cell_type": "code",
   "execution_count": null,
   "id": "69bfb068",
   "metadata": {},
   "outputs": [],
   "source": [
    "psds, freqs = mne.time_frequency.psd_welch(raw, fmin=8, fmax=12, picks='E1')\n",
    "psds.mean()"
   ]
  },
  {
   "cell_type": "code",
   "execution_count": null,
   "id": "e2532b42",
   "metadata": {},
   "outputs": [],
   "source": [
    "freqs"
   ]
  },
  {
   "cell_type": "code",
   "execution_count": null,
   "id": "d11ff88a",
   "metadata": {},
   "outputs": [],
   "source": [
    "psds"
   ]
  },
  {
   "cell_type": "markdown",
   "id": "40a083b5",
   "metadata": {},
   "source": [
    "### Save raw as fif file"
   ]
  },
  {
   "cell_type": "code",
   "execution_count": null,
   "id": "34362a14",
   "metadata": {},
   "outputs": [],
   "source": [
    "raw.save(\"eeg.fif\", overwrite=True)"
   ]
  },
  {
   "cell_type": "markdown",
   "id": "76f2440b",
   "metadata": {},
   "source": [
    "# Timestamps"
   ]
  },
  {
   "cell_type": "code",
   "execution_count": null,
   "id": "6e53a440",
   "metadata": {},
   "outputs": [],
   "source": [
    "df['timestamp'] = df['timestamp'] - df['timestamp'].iloc[0]"
   ]
  },
  {
   "cell_type": "code",
   "execution_count": null,
   "id": "f80552b6",
   "metadata": {},
   "outputs": [],
   "source": [
    "plt.plot(df['timestamp'])"
   ]
  },
  {
   "cell_type": "code",
   "execution_count": null,
   "id": "8ffde0bf",
   "metadata": {},
   "outputs": [],
   "source": []
  }
 ],
 "metadata": {
  "kernelspec": {
   "display_name": "Python 3 (ipykernel)",
   "language": "python",
   "name": "python3"
  },
  "language_info": {
   "codemirror_mode": {
    "name": "ipython",
    "version": 3
   },
   "file_extension": ".py",
   "mimetype": "text/x-python",
   "name": "python",
   "nbconvert_exporter": "python",
   "pygments_lexer": "ipython3",
   "version": "3.10.8"
  }
 },
 "nbformat": 4,
 "nbformat_minor": 5
}
